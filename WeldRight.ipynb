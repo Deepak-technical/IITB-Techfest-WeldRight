version https://git-lfs.github.com/spec/v1
oid sha256:b9b6c7efe2369f4ff0fef7d130b96ca8604294f4fcdb1d5fc7a4ddfcf513a618
size 13207052

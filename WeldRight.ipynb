version https://git-lfs.github.com/spec/v1
oid sha256:8e634188278e2fdcc41ef669f5d7e2d67b72652508025734975a4d6a853f3d33
size 13203222
